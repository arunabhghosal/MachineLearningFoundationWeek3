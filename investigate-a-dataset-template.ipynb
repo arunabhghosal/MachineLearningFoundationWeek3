{
 "cells": [
  {
   "cell_type": "markdown",
   "metadata": {},
   "source": [
    "# Project: Investigate TMDB Dataset\n",
    "\n",
    "## Table of Contents\n",
    "<ul>\n",
    "<li><a href=\"#intro\">Introduction</a></li>\n",
    "<li><a href=\"#wrangling\">Data Wrangling</a></li>\n",
    "<li><a href=\"#eda\">Exploratory Data Analysis</a></li>\n",
    "<li><a href=\"#conclusions\">Conclusions</a></li>\n",
    "</ul>"
   ]
  },
  {
   "cell_type": "markdown",
   "metadata": {},
   "source": [
    "<a id='intro'></a>\n",
    "## Introduction\n",
    "\n",
    "I have selected TMDB dataset for analysis. \n",
    "\n",
    "Following questions I am trying to find solution for:\n",
    "<ol>\n",
    " \n",
    "<li><b>How budget of a movie related to revenue of the movie. Considering movies with minimum 500 votes and 5 average vote.</b></li><li>\n",
    "    <b>How budget of a movie is related to average vote. Considering movies with minimum 500 votes.</b>\n",
    "    \n",
    "</li>\n",
    "</ol>"
   ]
  },
  {
   "cell_type": "code",
   "execution_count": 31,
   "metadata": {},
   "outputs": [],
   "source": [
    "%matplotlib inline\n",
    "import matplotlib.pyplot as plt\n",
    "import warnings\n",
    "warnings.filterwarnings('ignore')\n",
    "import pandas as pd\n",
    "import numpy as np\n",
    "import seaborn as sns"
   ]
  },
  {
   "cell_type": "markdown",
   "metadata": {},
   "source": [
    "<a id='wrangling'></a>\n",
    "## Data Wrangling\n",
    "\n",
    "\n",
    "### General Properties"
   ]
  },
  {
   "cell_type": "code",
   "execution_count": 2,
   "metadata": {},
   "outputs": [
    {
     "name": "stdout",
     "output_type": "stream",
     "text": [
      "10866\n",
      "       id    imdb_id  popularity     budget     revenue  \\\n",
      "0  135397  tt0369610   32.985763  150000000  1513528810   \n",
      "1   76341  tt1392190   28.419936  150000000   378436354   \n",
      "2  262500  tt2908446   13.112507  110000000   295238201   \n",
      "3  140607  tt2488496   11.173104  200000000  2068178225   \n",
      "4  168259  tt2820852    9.335014  190000000  1506249360   \n",
      "\n",
      "                 original_title  \\\n",
      "0                Jurassic World   \n",
      "1            Mad Max: Fury Road   \n",
      "2                     Insurgent   \n",
      "3  Star Wars: The Force Awakens   \n",
      "4                     Furious 7   \n",
      "\n",
      "                                                cast  \\\n",
      "0  Chris Pratt|Bryce Dallas Howard|Irrfan Khan|Vi...   \n",
      "1  Tom Hardy|Charlize Theron|Hugh Keays-Byrne|Nic...   \n",
      "2  Shailene Woodley|Theo James|Kate Winslet|Ansel...   \n",
      "3  Harrison Ford|Mark Hamill|Carrie Fisher|Adam D...   \n",
      "4  Vin Diesel|Paul Walker|Jason Statham|Michelle ...   \n",
      "\n",
      "                                            homepage          director  \\\n",
      "0                      http://www.jurassicworld.com/   Colin Trevorrow   \n",
      "1                        http://www.madmaxmovie.com/     George Miller   \n",
      "2     http://www.thedivergentseries.movie/#insurgent  Robert Schwentke   \n",
      "3  http://www.starwars.com/films/star-wars-episod...       J.J. Abrams   \n",
      "4                           http://www.furious7.com/         James Wan   \n",
      "\n",
      "                         tagline      ...       \\\n",
      "0              The park is open.      ...        \n",
      "1             What a Lovely Day.      ...        \n",
      "2     One Choice Can Destroy You      ...        \n",
      "3  Every generation has a story.      ...        \n",
      "4            Vengeance Hits Home      ...        \n",
      "\n",
      "                                            overview runtime  \\\n",
      "0  Twenty-two years after the events of Jurassic ...     124   \n",
      "1  An apocalyptic story set in the furthest reach...     120   \n",
      "2  Beatrice Prior must confront her inner demons ...     119   \n",
      "3  Thirty years after defeating the Galactic Empi...     136   \n",
      "4  Deckard Shaw seeks revenge against Dominic Tor...     137   \n",
      "\n",
      "                                      genres  \\\n",
      "0  Action|Adventure|Science Fiction|Thriller   \n",
      "1  Action|Adventure|Science Fiction|Thriller   \n",
      "2         Adventure|Science Fiction|Thriller   \n",
      "3   Action|Adventure|Science Fiction|Fantasy   \n",
      "4                      Action|Crime|Thriller   \n",
      "\n",
      "                                production_companies release_date vote_count  \\\n",
      "0  Universal Studios|Amblin Entertainment|Legenda...       6/9/15       5562   \n",
      "1  Village Roadshow Pictures|Kennedy Miller Produ...      5/13/15       6185   \n",
      "2  Summit Entertainment|Mandeville Films|Red Wago...      3/18/15       2480   \n",
      "3          Lucasfilm|Truenorth Productions|Bad Robot     12/15/15       5292   \n",
      "4  Universal Pictures|Original Film|Media Rights ...       4/1/15       2947   \n",
      "\n",
      "   vote_average  release_year    budget_adj   revenue_adj  \n",
      "0           6.5          2015  1.379999e+08  1.392446e+09  \n",
      "1           7.1          2015  1.379999e+08  3.481613e+08  \n",
      "2           6.3          2015  1.012000e+08  2.716190e+08  \n",
      "3           7.5          2015  1.839999e+08  1.902723e+09  \n",
      "4           7.3          2015  1.747999e+08  1.385749e+09  \n",
      "\n",
      "[5 rows x 21 columns]\n"
     ]
    }
   ],
   "source": [
    "'''\n",
    "    load_csv_file() function loads the tmdb data into pandas dataframe. It also prints first five rows.\n",
    "'''\n",
    "def load_csv_file(filename):\n",
    "    tmdb_file = pd.read_csv(filename)\n",
    "    print(len(tmdb_file))\n",
    "    print(tmdb_file.head())\n",
    "    \n",
    "    return tmdb_file\n",
    "    \n",
    "tmdb_file=load_csv_file(\"tmdb-movies.csv\")"
   ]
  },
  {
   "cell_type": "code",
   "execution_count": 3,
   "metadata": {},
   "outputs": [
    {
     "name": "stdout",
     "output_type": "stream",
     "text": [
      "                  id    popularity        budget       revenue       runtime  \\\n",
      "count   10866.000000  10866.000000  1.086600e+04  1.086600e+04  10866.000000   \n",
      "mean    66064.177434      0.646441  1.462570e+07  3.982332e+07    102.070863   \n",
      "std     92130.136561      1.000185  3.091321e+07  1.170035e+08     31.381405   \n",
      "min         5.000000      0.000065  0.000000e+00  0.000000e+00      0.000000   \n",
      "25%     10596.250000      0.207583  0.000000e+00  0.000000e+00     90.000000   \n",
      "50%     20669.000000      0.383856  0.000000e+00  0.000000e+00     99.000000   \n",
      "75%     75610.000000      0.713817  1.500000e+07  2.400000e+07    111.000000   \n",
      "max    417859.000000     32.985763  4.250000e+08  2.781506e+09    900.000000   \n",
      "\n",
      "         vote_count  vote_average  release_year    budget_adj   revenue_adj  \n",
      "count  10866.000000  10866.000000  10866.000000  1.086600e+04  1.086600e+04  \n",
      "mean     217.389748      5.974922   2001.322658  1.755104e+07  5.136436e+07  \n",
      "std      575.619058      0.935142     12.812941  3.430616e+07  1.446325e+08  \n",
      "min       10.000000      1.500000   1960.000000  0.000000e+00  0.000000e+00  \n",
      "25%       17.000000      5.400000   1995.000000  0.000000e+00  0.000000e+00  \n",
      "50%       38.000000      6.000000   2006.000000  0.000000e+00  0.000000e+00  \n",
      "75%      145.750000      6.600000   2011.000000  2.085325e+07  3.369710e+07  \n",
      "max     9767.000000      9.200000   2015.000000  4.250000e+08  2.827124e+09  \n",
      "id                        int64\n",
      "imdb_id                  object\n",
      "popularity              float64\n",
      "budget                    int64\n",
      "revenue                   int64\n",
      "original_title           object\n",
      "cast                     object\n",
      "homepage                 object\n",
      "director                 object\n",
      "tagline                  object\n",
      "keywords                 object\n",
      "overview                 object\n",
      "runtime                   int64\n",
      "genres                   object\n",
      "production_companies     object\n",
      "release_date             object\n",
      "vote_count                int64\n",
      "vote_average            float64\n",
      "release_year              int64\n",
      "budget_adj              float64\n",
      "revenue_adj             float64\n",
      "dtype: object\n"
     ]
    }
   ],
   "source": [
    "def desc_tmdb():\n",
    "    print(tmdb_file.describe())\n",
    "    \n",
    "    print(tmdb_file.dtypes)\n",
    "    \n",
    "desc_tmdb()"
   ]
  },
  {
   "cell_type": "code",
   "execution_count": 4,
   "metadata": {},
   "outputs": [
    {
     "name": "stdout",
     "output_type": "stream",
     "text": [
      "id                         0\n",
      "imdb_id                   10\n",
      "popularity                 0\n",
      "budget                     0\n",
      "revenue                    0\n",
      "original_title             0\n",
      "cast                      76\n",
      "homepage                7930\n",
      "director                  44\n",
      "tagline                 2824\n",
      "keywords                1493\n",
      "overview                   4\n",
      "runtime                    0\n",
      "genres                    23\n",
      "production_companies    1030\n",
      "release_date               0\n",
      "vote_count                 0\n",
      "vote_average               0\n",
      "release_year               0\n",
      "budget_adj                 0\n",
      "revenue_adj                0\n",
      "dtype: int64\n"
     ]
    }
   ],
   "source": [
    "''' Check if fields are missing'''\n",
    "def check_missing():\n",
    "    missing_field = tmdb_file.isnull().sum()\n",
    "    print(missing_field)\n",
    "    \n",
    "check_missing()"
   ]
  },
  {
   "cell_type": "code",
   "execution_count": 5,
   "metadata": {},
   "outputs": [
    {
     "name": "stdout",
     "output_type": "stream",
     "text": [
      "Mean is 14625701.09414688\n",
      "Median is 0.0\n"
     ]
    }
   ],
   "source": [
    "'''Checking Mean and Median'''\n",
    "def cal_stats():\n",
    "    \n",
    "    budget_mean = tmdb_file['budget'].mean()\n",
    "    budget_median = tmdb_file['budget'].median()\n",
    "    \n",
    "    print(\"Mean is\",budget_mean)\n",
    "    print(\"Median is\",budget_median)\n",
    "    \n",
    "    \n",
    "    \n",
    "cal_stats()"
   ]
  },
  {
   "cell_type": "markdown",
   "metadata": {},
   "source": [
    "<h6>Since median came as 0.0, there might be movies for which budget is recorded as 0. We will try to figure out if this is the case.</h6>\n"
   ]
  },
  {
   "cell_type": "code",
   "execution_count": 6,
   "metadata": {},
   "outputs": [
    {
     "name": "stdout",
     "output_type": "stream",
     "text": [
      "5696\n"
     ]
    }
   ],
   "source": [
    "'''Median came as 0. We will check if budget has negetive or 0 as value'''\n",
    "\n",
    "def print_budget():\n",
    "    \n",
    "    budget = tmdb_file['budget']\n",
    "    neg_zero_val = []\n",
    "    for data in budget:\n",
    "        if data <= 0.0:\n",
    "            neg_zero_val.append(data)\n",
    "    \n",
    "    print(len(neg_zero_val))\n",
    "    \n",
    "print_budget()\n",
    "    \n"
   ]
  },
  {
   "cell_type": "markdown",
   "metadata": {},
   "source": [
    "<h6>In the above code we can see that there are minimum 5696 rows for which budget is 0. Next we will remove those rows.</h6>"
   ]
  },
  {
   "cell_type": "markdown",
   "metadata": {},
   "source": [
    "\n",
    "\n",
    "### Data Cleaning"
   ]
  },
  {
   "cell_type": "code",
   "execution_count": 8,
   "metadata": {},
   "outputs": [
    {
     "name": "stdout",
     "output_type": "stream",
     "text": [
      "3855\n"
     ]
    }
   ],
   "source": [
    "# After discussing the structure of the data and any problems that need to be\n",
    "#   cleaned, perform those cleaning steps in the second part of this section.\n",
    "'''Removing rows where budget or revenue is 0 or less than 0'''\n",
    "def remove_zero():\n",
    "    new_tmdb = tmdb_file[(tmdb_file['budget'] >0.0) & (tmdb_file['revenue'] >0.0)]\n",
    "    \n",
    "    print(len(new_tmdb))\n",
    "\n",
    "    return new_tmdb\n",
    "\n",
    "tmdb_without_zero = remove_zero()\n"
   ]
  },
  {
   "cell_type": "markdown",
   "metadata": {},
   "source": [
    "<h6>remove_zero function removed all the rows from dataframe where budget or revenue was 0.</h6>\n",
    "\n"
   ]
  },
  {
   "cell_type": "markdown",
   "metadata": {},
   "source": [
    "<a id='eda'></a>\n",
    "## Exploratory Data Analysis\n",
    "\n",
    "### How budget of a movie related to revenue of the movie. Considering movies with minimum 1000 votes and 5 average vote."
   ]
  },
  {
   "cell_type": "code",
   "execution_count": 9,
   "metadata": {},
   "outputs": [
    {
     "name": "stdout",
     "output_type": "stream",
     "text": [
      "37201828.29156939\n",
      "24000000.0\n",
      "107658932.66977951\n",
      "44793222.0\n"
     ]
    }
   ],
   "source": [
    "# Use this, and more code cells, to explore your data. Don't forget to add\n",
    "#   Markdown cells to document your observations and findings.\n",
    "\n",
    "'''new_stats function prints budget's and revenue's mean and median. '''\n",
    "\n",
    "def new_stats(new_tmdb):\n",
    "    \n",
    "    print(new_tmdb['budget'].mean())\n",
    "    print(new_tmdb['budget'].median())\n",
    "    \n",
    "    print(new_tmdb['revenue'].mean())\n",
    "    print(new_tmdb['revenue'].median())\n",
    "    \n",
    "#     print(new_tmdb.head())\n",
    "    \n",
    "\n",
    "new_stats(tmdb_without_zero)"
   ]
  },
  {
   "cell_type": "markdown",
   "metadata": {},
   "source": [
    "<h6>Now we will compute ratio of revenue to budget for each movie</h6>"
   ]
  },
  {
   "cell_type": "code",
   "execution_count": 10,
   "metadata": {},
   "outputs": [
    {
     "name": "stdout",
     "output_type": "stream",
     "text": [
      "id                                                                   8856\n",
      "imdb_id                                                         tt0091326\n",
      "popularity                                                       0.772494\n",
      "budget                                                                113\n",
      "revenue                                                         115103979\n",
      "original_title                                    The Karate Kid, Part II\n",
      "cast                    Ralph Macchio|Pat Morita|Martin Kove|Charlie T...\n",
      "homepage                                                              NaN\n",
      "director                                                 John G. Avildsen\n",
      "tagline                                    This time, the combat is real.\n",
      "keywords                 martial arts|karate|okinawa|revanche|self esteem\n",
      "overview                Mr. Miyagi and Daniel take a trip to Okinawa t...\n",
      "runtime                                                               113\n",
      "genres                              Adventure|Drama|Action|Romance|Family\n",
      "production_companies    Columbia Pictures Corporation|Delphi V Product...\n",
      "release_date                                                      6/18/86\n",
      "vote_count                                                            211\n",
      "vote_average                                                          5.8\n",
      "release_year                                                         1986\n",
      "budget_adj                                                        224.803\n",
      "revenue_adj                                                   2.28989e+08\n",
      "ratio_revenue_budget                                          1.01862e+06\n",
      "Name: 10495, dtype: object\n",
      "3855\n"
     ]
    }
   ],
   "source": [
    "def ratio(tmdb):\n",
    "    \n",
    "    tmdb['ratio_revenue_budget'] = np.divide(tmdb['revenue'], tmdb['budget'])\n",
    "    \n",
    "    id=tmdb['ratio_revenue_budget'].idxmax()\n",
    "    print(tmdb.loc[id])\n",
    "    \n",
    "    print(len(tmdb))\n",
    "    return tmdb\n",
    "\n",
    "\n",
    "tmdb = ratio(tmdb_without_zero)\n"
   ]
  },
  {
   "cell_type": "markdown",
   "metadata": {},
   "source": [
    "<h6> When graph was plotted for the ratio_revenue_budget, it was evident that there are outliers the data. Next function will remove all the rows having ratio_revenue_budget as outliers</h6>"
   ]
  },
  {
   "cell_type": "code",
   "execution_count": 11,
   "metadata": {},
   "outputs": [
    {
     "name": "stdout",
     "output_type": "stream",
     "text": [
      "id                                                                  14438\n",
      "imdb_id                                                         tt1129423\n",
      "popularity                                                       0.280555\n",
      "budget                                                             500000\n",
      "revenue                                                          33456317\n",
      "original_title                                                  Fireproof\n",
      "cast                    Kirk Cameron|Erin Bethea|Ken Bevel|Stephen Der...\n",
      "homepage                                http://www.fireproofthemovie.com/\n",
      "director                                                    Alex Kendrick\n",
      "tagline                                  Never Leave Your Partner Behind.\n",
      "keywords                father-son relationship|fire|firemen|christian...\n",
      "overview                In Albany, the marriage of Caleb end Catherine...\n",
      "runtime                                                               122\n",
      "genres                                                              Drama\n",
      "production_companies    Carmel Entertainment|Provident Films|Samuel Go...\n",
      "release_date                                                      9/26/08\n",
      "vote_count                                                             54\n",
      "vote_average                                                          7.5\n",
      "release_year                                                         2008\n",
      "budget_adj                                                         506393\n",
      "revenue_adj                                                   3.38841e+07\n",
      "ratio_revenue_budget                                              66.9126\n",
      "Name: 3180, dtype: object\n",
      "3816\n"
     ]
    }
   ],
   "source": [
    "'''This function will remove all the rows with outliers in ratio_revenue_budget'''\n",
    "def remove_outliers(tmdb):\n",
    "    q = tmdb['ratio_revenue_budget'].quantile(0.99)\n",
    "    tmdb_1=tmdb[tmdb['ratio_revenue_budget'] < q]\n",
    "\n",
    "    id=tmdb_1['ratio_revenue_budget'].idxmax()\n",
    "    print(tmdb_1.loc[id])\n",
    "    \n",
    "    print(len(tmdb_1))\n",
    "    return tmdb_1\n",
    "\n",
    "tmdb_without_outliers=remove_outliers(tmdb)\n",
    "\n"
   ]
  },
  {
   "cell_type": "markdown",
   "metadata": {},
   "source": [
    "<h5>Next we will filter the rows where movies have more than 500 vote counts and vote average is more than 5."
   ]
  },
  {
   "cell_type": "code",
   "execution_count": 12,
   "metadata": {},
   "outputs": [
    {
     "name": "stdout",
     "output_type": "stream",
     "text": [
      "       id    imdb_id  popularity     budget     revenue  \\\n",
      "0  135397  tt0369610   32.985763  150000000  1513528810   \n",
      "1   76341  tt1392190   28.419936  150000000   378436354   \n",
      "2  262500  tt2908446   13.112507  110000000   295238201   \n",
      "3  140607  tt2488496   11.173104  200000000  2068178225   \n",
      "4  168259  tt2820852    9.335014  190000000  1506249360   \n",
      "\n",
      "                 original_title  \\\n",
      "0                Jurassic World   \n",
      "1            Mad Max: Fury Road   \n",
      "2                     Insurgent   \n",
      "3  Star Wars: The Force Awakens   \n",
      "4                     Furious 7   \n",
      "\n",
      "                                                cast  \\\n",
      "0  Chris Pratt|Bryce Dallas Howard|Irrfan Khan|Vi...   \n",
      "1  Tom Hardy|Charlize Theron|Hugh Keays-Byrne|Nic...   \n",
      "2  Shailene Woodley|Theo James|Kate Winslet|Ansel...   \n",
      "3  Harrison Ford|Mark Hamill|Carrie Fisher|Adam D...   \n",
      "4  Vin Diesel|Paul Walker|Jason Statham|Michelle ...   \n",
      "\n",
      "                                            homepage          director  \\\n",
      "0                      http://www.jurassicworld.com/   Colin Trevorrow   \n",
      "1                        http://www.madmaxmovie.com/     George Miller   \n",
      "2     http://www.thedivergentseries.movie/#insurgent  Robert Schwentke   \n",
      "3  http://www.starwars.com/films/star-wars-episod...       J.J. Abrams   \n",
      "4                           http://www.furious7.com/         James Wan   \n",
      "\n",
      "                         tagline          ...          runtime  \\\n",
      "0              The park is open.          ...              124   \n",
      "1             What a Lovely Day.          ...              120   \n",
      "2     One Choice Can Destroy You          ...              119   \n",
      "3  Every generation has a story.          ...              136   \n",
      "4            Vengeance Hits Home          ...              137   \n",
      "\n",
      "                                      genres  \\\n",
      "0  Action|Adventure|Science Fiction|Thriller   \n",
      "1  Action|Adventure|Science Fiction|Thriller   \n",
      "2         Adventure|Science Fiction|Thriller   \n",
      "3   Action|Adventure|Science Fiction|Fantasy   \n",
      "4                      Action|Crime|Thriller   \n",
      "\n",
      "                                production_companies release_date vote_count  \\\n",
      "0  Universal Studios|Amblin Entertainment|Legenda...       6/9/15       5562   \n",
      "1  Village Roadshow Pictures|Kennedy Miller Produ...      5/13/15       6185   \n",
      "2  Summit Entertainment|Mandeville Films|Red Wago...      3/18/15       2480   \n",
      "3          Lucasfilm|Truenorth Productions|Bad Robot     12/15/15       5292   \n",
      "4  Universal Pictures|Original Film|Media Rights ...       4/1/15       2947   \n",
      "\n",
      "  vote_average  release_year    budget_adj   revenue_adj  ratio_revenue_budget  \n",
      "0          6.5          2015  1.379999e+08  1.392446e+09             10.090192  \n",
      "1          7.1          2015  1.379999e+08  3.481613e+08              2.522909  \n",
      "2          6.3          2015  1.012000e+08  2.716190e+08              2.683984  \n",
      "3          7.5          2015  1.839999e+08  1.902723e+09             10.340891  \n",
      "4          7.3          2015  1.747999e+08  1.385749e+09              7.927628  \n",
      "\n",
      "[5 rows x 22 columns]\n",
      "551\n"
     ]
    }
   ],
   "source": [
    "def movies_with_1000_votes(tmdb_without_outliers):\n",
    "    tmdb_with_1000_votes = tmdb_without_outliers[(tmdb_without_outliers['vote_count']>1000) & (tmdb_without_outliers['vote_average']>5)]\n",
    "    print(tmdb_with_1000_votes.head())\n",
    "    print(len(tmdb_with_1000_votes))\n",
    "    return tmdb_with_1000_votes\n",
    "    \n",
    "tmdb_with_1000_votes=movies_with_1000_votes(tmdb_without_outliers)"
   ]
  },
  {
   "cell_type": "code",
   "execution_count": 13,
   "metadata": {},
   "outputs": [
    {
     "name": "stdout",
     "output_type": "stream",
     "text": [
      "Mean is 5.837153338042944\n",
      "Median is 3.9653850430107527\n",
      "Max is 55.163268125\n",
      "Min is 0.211753666667\n"
     ]
    }
   ],
   "source": [
    "'''Mean median and other stats for revenue to budget ratio'''\n",
    "def revenue_to_budget_stats(tmdb_with_1000_votes):\n",
    "    print(\"Mean is\",tmdb_with_1000_votes['ratio_revenue_budget'].mean())\n",
    "    print(\"Median is\",tmdb_with_1000_votes['ratio_revenue_budget'].median())\n",
    "    print(\"Max is\",tmdb_with_1000_votes['ratio_revenue_budget'].max())\n",
    "    print(\"Min is\",tmdb_with_1000_votes['ratio_revenue_budget'].min())\n",
    "    \n",
    "    \n",
    "    \n",
    "revenue_to_budget_stats(tmdb_with_1000_votes)\n",
    "    \n",
    "    "
   ]
  },
  {
   "cell_type": "code",
   "execution_count": 29,
   "metadata": {},
   "outputs": [
    {
     "data": {
      "text/plain": [
       "Text(0,0.5,'Ratio')"
      ]
     },
     "execution_count": 29,
     "metadata": {},
     "output_type": "execute_result"
    },
    {
     "data": {
      "image/png": "[encoded data removed]",
      "text/plain": [
       "<matplotlib.figure.Figure at 0x7ff60e56aef0>"
      ]
     },
     "metadata": {},
     "output_type": "display_data"
    },
    {
     "data": {
      "image/png": "[encoded data removed]",
      "text/plain": [
       "<matplotlib.figure.Figure at 0x7ff60e3cfd68>"
      ]
     },
     "metadata": {},
     "output_type": "display_data"
    }
   ],
   "source": [
    "# def plot_graph(tmdb_with_1000_votes):\n",
    "    \n",
    "#     ratio_revenue_budget = tmdb_with_1000_votes['ratio_revenue_budget']\n",
    "#     my_plot = ratio_revenue_budget.plot(figsize=(10, 8),kind='area'  ,title='Ratio of revenue to budget').set_xlabel(\"revenue/budget\")\n",
    "# #     print(t)\n",
    "\n",
    "# plot_graph(tmdb_with_1000_votes)\n",
    "\n",
    "\n",
    "temp_data = tmdb_with_1000_votes.copy() #always create a copy when modifying.\n",
    "# convert release date to datetime object so we can easily manipulate\n",
    "temp_data['release_date'] = pd.to_datetime(temp_data['release_date'])\n",
    "# set resease_date as index.  This is important since resample uses the index to group\n",
    "# the reason we use release_data instead of release_year is because indexes cannot be identical\n",
    "temp_data = temp_data.set_index('release_date')\n",
    "# We will group by every 5 years which is '5A' in the resample documentation\n",
    "plt_df = temp_data[['revenue', 'budget']].resample('5A').mean()\n",
    "plt_df['Budget/Revenue Ratio'] = plt_df['budget']/plt_df['revenue']\n",
    "# We will make a column of just the year\n",
    "plt_df['Year'] = [str(i)[:4] for i in plt_df.index]\n",
    "plt_df.plot(x = 'Year', y = ['revenue', 'budget'], kind = 'bar', rot = 0)\n",
    "\n",
    "plt.title('Average Revenue and Budget over the Years')\n",
    "plt.ylabel('Dollars (x10million)')\n",
    "plt_df.plot(x = 'Year', y = 'Budget/Revenue Ratio', kind = 'bar', rot = 0)\n",
    "plt.title('Budget/Revenue Ratio over the Years')\n",
    "plt.ylabel('Ratio')"
   ]
  },
  {
   "cell_type": "markdown",
   "metadata": {},
   "source": [
    "In the 1st graph we can see that movies with higher budgets tend to generate more revenue.\n",
    "\n",
    "In the 2nd graph (ie Budget/Revenue ratio over the Years) we can see the ratio of Budget to revenue has increased over the years."
   ]
  },
  {
   "cell_type": "code",
   "execution_count": 33,
   "metadata": {},
   "outputs": [
    {
     "data": {
      "image/png": "[encoded data removed]",
      "text/plain": [
       "<matplotlib.figure.Figure at 0x7ff601a921d0>"
      ]
     },
     "metadata": {},
     "output_type": "display_data"
    }
   ],
   "source": [
    "temp_data = tmdb_with_1000_votes.copy()\n",
    "plt.figure(figsize=(7,5), dpi = 105)\n",
    "\n",
    "#using seaborn to plot\n",
    "#plotting box plot\n",
    "sns.boxplot(temp_data['revenue_adj'], linewidth = 3)\n",
    "#showing the plot\n",
    "plt.show()"
   ]
  },
  {
   "cell_type": "markdown",
   "metadata": {},
   "source": [
    "The above plot is a boxplot graph of revenue_adj. This graph is indicating the data is left skewed."
   ]
  },
  {
   "cell_type": "markdown",
   "metadata": {},
   "source": [
    "### How budget of a movie is related to average vote. Considering movies with minimum 500 votes."
   ]
  },
  {
   "cell_type": "code",
   "execution_count": 16,
   "metadata": {},
   "outputs": [
    {
     "name": "stdout",
     "output_type": "stream",
     "text": [
      "         id    imdb_id  popularity     budget     revenue  \\\n",
      "0    135397  tt0369610   32.985763  150000000  1513528810   \n",
      "1     76341  tt1392190   28.419936  150000000   378436354   \n",
      "3    140607  tt2488496   11.173104  200000000  2068178225   \n",
      "629  157336  tt0816692   24.949134  165000000   621752480   \n",
      "630  118340  tt2015381   14.311205  170000000   773312399   \n",
      "\n",
      "                   original_title  \\\n",
      "0                  Jurassic World   \n",
      "1              Mad Max: Fury Road   \n",
      "3    Star Wars: The Force Awakens   \n",
      "629                  Interstellar   \n",
      "630       Guardians of the Galaxy   \n",
      "\n",
      "                                                  cast  \\\n",
      "0    Chris Pratt|Bryce Dallas Howard|Irrfan Khan|Vi...   \n",
      "1    Tom Hardy|Charlize Theron|Hugh Keays-Byrne|Nic...   \n",
      "3    Harrison Ford|Mark Hamill|Carrie Fisher|Adam D...   \n",
      "629  Matthew McConaughey|Jessica Chastain|Anne Hath...   \n",
      "630  Chris Pratt|Zoe Saldana|Dave Bautista|Vin Dies...   \n",
      "\n",
      "                                              homepage           director  \\\n",
      "0                        http://www.jurassicworld.com/    Colin Trevorrow   \n",
      "1                          http://www.madmaxmovie.com/      George Miller   \n",
      "3    http://www.starwars.com/films/star-wars-episod...        J.J. Abrams   \n",
      "629                  http://www.interstellarmovie.net/  Christopher Nolan   \n",
      "630                        http://marvel.com/guardians         James Gunn   \n",
      "\n",
      "                                               tagline          ...           \\\n",
      "0                                    The park is open.          ...            \n",
      "1                                   What a Lovely Day.          ...            \n",
      "3                        Every generation has a story.          ...            \n",
      "629  Mankind was born on Earth. It was never meant ...          ...            \n",
      "630                        All heroes start somewhere.          ...            \n",
      "\n",
      "    runtime                                     genres  \\\n",
      "0       124  Action|Adventure|Science Fiction|Thriller   \n",
      "1       120  Action|Adventure|Science Fiction|Thriller   \n",
      "3       136   Action|Adventure|Science Fiction|Fantasy   \n",
      "629     169            Adventure|Drama|Science Fiction   \n",
      "630     121           Action|Science Fiction|Adventure   \n",
      "\n",
      "                                  production_companies release_date  \\\n",
      "0    Universal Studios|Amblin Entertainment|Legenda...       6/9/15   \n",
      "1    Village Roadshow Pictures|Kennedy Miller Produ...      5/13/15   \n",
      "3            Lucasfilm|Truenorth Productions|Bad Robot     12/15/15   \n",
      "629  Paramount Pictures|Legendary Pictures|Warner B...      11/5/14   \n",
      "630  Marvel Studios|Moving Picture Company (MPC)|Bu...      7/30/14   \n",
      "\n",
      "    vote_count vote_average  release_year    budget_adj   revenue_adj  \\\n",
      "0         5562          6.5          2015  1.379999e+08  1.392446e+09   \n",
      "1         6185          7.1          2015  1.379999e+08  3.481613e+08   \n",
      "3         5292          7.5          2015  1.839999e+08  1.902723e+09   \n",
      "629       6498          8.0          2014  1.519800e+08  5.726906e+08   \n",
      "630       5612          7.9          2014  1.565855e+08  7.122911e+08   \n",
      "\n",
      "     ratio_revenue_budget  \n",
      "0               10.090192  \n",
      "1                2.522909  \n",
      "3               10.340891  \n",
      "629              3.768197  \n",
      "630              4.548896  \n",
      "\n",
      "[5 rows x 22 columns]\n",
      "24\n"
     ]
    }
   ],
   "source": [
    "'''filtering the movies with more than 500 votes'''\n",
    "\n",
    "def tmdb_with_500_votes(tmdb_without_outliers):\n",
    "    tmdb_with_500_vote = tmdb_without_outliers[tmdb_without_outliers['vote_count']>5000]\n",
    "    print(tmdb_with_500_vote.head())\n",
    "    print(len(tmdb_with_500_vote))\n",
    "    return tmdb_with_500_vote\n",
    "\n",
    "tmdb_with_500_vote = tmdb_with_500_votes(tmdb_without_outliers)"
   ]
  },
  {
   "cell_type": "code",
   "execution_count": 17,
   "metadata": {},
   "outputs": [],
   "source": [
    "'''Standardizing the data'''\n",
    "def standardize(tmdb_with_500_vote):\n",
    "\n",
    "    tmdb_with_500_vote['budget_adj'] = (tmdb_with_500_vote['budget_adj'] - tmdb_with_500_vote['budget_adj'].mean())/tmdb_with_500_vote['budget_adj'].std()\n",
    "    tmdb_with_500_vote['vote_average'] = (tmdb_with_500_vote['vote_average'] - tmdb_with_500_vote['vote_average'].mean())/tmdb_with_500_vote['vote_average'].std()\n",
    "    return tmdb_with_500_vote\n",
    "    \n",
    "tmdb_standardize = standardize(tmdb_with_500_vote)\n",
    "    "
   ]
  },
  {
   "cell_type": "code",
   "execution_count": 18,
   "metadata": {},
   "outputs": [
    {
     "name": "stdout",
     "output_type": "stream",
     "text": [
      "-0.413302424908\n"
     ]
    }
   ],
   "source": [
    "def corelation(tmdb_standardize):\n",
    "\n",
    "    print(tmdb_standardize['budget_adj'].corr(tmdb_standardize['vote_average']))\n",
    "    \n",
    "corelation(tmdb_standardize)"
   ]
  },
  {
   "cell_type": "code",
   "execution_count": 19,
   "metadata": {},
   "outputs": [
    {
     "data": {
      "text/plain": [
       "Text(0,0.5,'Budget')"
      ]
     },
     "execution_count": 19,
     "metadata": {},
     "output_type": "execute_result"
    },
    {
     "data": {
      "image/png": "[encoded data removed]",
      "text/plain": [
       "<matplotlib.figure.Figure at 0x7ff617bdae10>"
      ]
     },
     "metadata": {},
     "output_type": "display_data"
    }
   ],
   "source": [
    "# tmdb_standardize[['budget_adj','vote_average']].plot(figsize=(18, 16),title='Relation between budget and vote average')\n",
    "\n",
    "fig, ax = plt.subplots()\n",
    "temp_data = tmdb_standardize.copy()\n",
    "fit = np.polyfit(temp_data['vote_average'], temp_data['budget_adj'], deg = 1)\n",
    "ax.plot(temp_data['vote_average'], fit[0]*temp_data['vote_average']+fit[1], color = 'red')\n",
    "ax.scatter(x = temp_data['vote_average'], y = temp_data['budget_adj'])\n",
    "plt.title('Scatter Plot of Revenue across Vote Average')\n",
    "plt.xlabel('Vote Average')\n",
    "plt.ylabel('Budget')\n"
   ]
  },
  {
   "cell_type": "markdown",
   "metadata": {},
   "source": [
    "From the above graph we can conclude that budget of a movie and popularity( in terms of average vote) have a negetive corelation. That is a movie with small budget may get more average votes."
   ]
  },
  {
   "cell_type": "markdown",
   "metadata": {},
   "source": [
    "<a id='conclusions'></a>\n",
    "## Conclusions\n"
   ]
  },
  {
   "cell_type": "markdown",
   "metadata": {
    "collapsed": true
   },
   "source": [
    "From 1st Question, ie How budget of a movie related to revenue of the movie. Considering movies with minimum 1000 votes and 5 average vote, following results came:\n",
    "\n",
    "<h4>Movies with 5 average vote tends to earn 5 times than the budget on an average. This may be wrong as we had very limited dataset after cleaning and filtering the data. Also other factors may be present to manipulate.</h4>\n",
    "\n",
    "From 2nd Question, ie How budget of a movie is related to average vote. Considering movies with minimum 500 votes.following results came:\n",
    "\n",
    "<h4>There is a negetive corelation between budget(adjusted) and averavge rating. This again may not be true because of other factors.</h4>\n",
    "\n",
    "<b>Limitation</b><br/>\n",
    "The dataset had too many null values for budget column, hence lot of rows had to be excluded which resulted in <b>smaller dataset</b>.\n",
    "\n"
   ]
  }
 ],
 "metadata": {
  "kernelspec": {
   "display_name": "Python 3",
   "language": "python",
   "name": "python3"
  },
  "language_info": {
   "codemirror_mode": {
    "name": "ipython",
    "version": 3
   },
   "file_extension": ".py",
   "mimetype": "text/x-python",
   "name": "python",
   "nbconvert_exporter": "python",
   "pygments_lexer": "ipython3",
   "version": "3.6.3"
  }
 },
 "nbformat": 4,
 "nbformat_minor": 2
}
